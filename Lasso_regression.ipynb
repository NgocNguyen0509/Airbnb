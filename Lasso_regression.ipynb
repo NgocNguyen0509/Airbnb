{
 "cells": [
  {
   "cell_type": "code",
   "execution_count": 1,
   "id": "c35d0bcb",
   "metadata": {},
   "outputs": [],
   "source": [
    "# import library\n",
    "import os\n",
    "import pandas as pd\n",
    "pd.set_option('display.max_rows', None)\n",
    "import seaborn as sns\n",
    "import matplotlib.pyplot as plt\n",
    "import re\n",
    "import numpy as np\n",
    "from numpy import arange\n",
    "import warnings\n",
    "warnings.filterwarnings(\"ignore\")\n",
    "\n",
    "from sklearn.linear_model import LassoCV\n",
    "from sklearn.model_selection import RepeatedKFold\n",
    "\n",
    "import pandas as pd\n",
    "import numpy as np\n",
    "import pickle\n",
    "from sklearn import preprocessing\n",
    "from sklearn.model_selection import GridSearchCV\n",
    "from sklearn.model_selection import RepeatedKFold\n",
    "from sklearn.model_selection import train_test_split"
   ]
  },
  {
   "cell_type": "code",
   "execution_count": 2,
   "id": "eb8273c4",
   "metadata": {},
   "outputs": [],
   "source": [
    "# import data \n",
    "df = pd.read_csv('/Users/ngocnguyen/Dropbox/Mac/Desktop/SQL/listing_cleaned.csv')"
   ]
  },
  {
   "cell_type": "code",
   "execution_count": 3,
   "id": "4c539fd6",
   "metadata": {},
   "outputs": [
    {
     "data": {
      "text/html": [
       "<div>\n",
       "<style scoped>\n",
       "    .dataframe tbody tr th:only-of-type {\n",
       "        vertical-align: middle;\n",
       "    }\n",
       "\n",
       "    .dataframe tbody tr th {\n",
       "        vertical-align: top;\n",
       "    }\n",
       "\n",
       "    .dataframe thead th {\n",
       "        text-align: right;\n",
       "    }\n",
       "</style>\n",
       "<table border=\"1\" class=\"dataframe\">\n",
       "  <thead>\n",
       "    <tr style=\"text-align: right;\">\n",
       "      <th></th>\n",
       "      <th>host_location</th>\n",
       "      <th>host_is_superhost</th>\n",
       "      <th>host_listings_count</th>\n",
       "      <th>host_total_listings_count</th>\n",
       "      <th>host_has_profile_pic</th>\n",
       "      <th>host_identity_verified</th>\n",
       "      <th>neighbourhood_cleansed</th>\n",
       "      <th>latitude</th>\n",
       "      <th>longitude</th>\n",
       "      <th>property_type</th>\n",
       "      <th>...</th>\n",
       "      <th>identity_manual</th>\n",
       "      <th>phone</th>\n",
       "      <th>government_id</th>\n",
       "      <th>kba</th>\n",
       "      <th>photographer</th>\n",
       "      <th>reviews</th>\n",
       "      <th>work_email</th>\n",
       "      <th>sesame_offline</th>\n",
       "      <th>manual_offline</th>\n",
       "      <th>weibo</th>\n",
       "    </tr>\n",
       "  </thead>\n",
       "  <tbody>\n",
       "    <tr>\n",
       "      <th>0</th>\n",
       "      <td>London, England, United Kingdom</td>\n",
       "      <td>0</td>\n",
       "      <td>3.0</td>\n",
       "      <td>3.0</td>\n",
       "      <td>1</td>\n",
       "      <td>1</td>\n",
       "      <td>Islington</td>\n",
       "      <td>51.56861</td>\n",
       "      <td>-0.11270</td>\n",
       "      <td>Private room in rental unit</td>\n",
       "      <td>...</td>\n",
       "      <td>0</td>\n",
       "      <td>1</td>\n",
       "      <td>1</td>\n",
       "      <td>0</td>\n",
       "      <td>0</td>\n",
       "      <td>1</td>\n",
       "      <td>0</td>\n",
       "      <td>0</td>\n",
       "      <td>0</td>\n",
       "      <td>0</td>\n",
       "    </tr>\n",
       "    <tr>\n",
       "      <th>1</th>\n",
       "      <td>Kensington, England, United Kingdom</td>\n",
       "      <td>0</td>\n",
       "      <td>1.0</td>\n",
       "      <td>1.0</td>\n",
       "      <td>1</td>\n",
       "      <td>1</td>\n",
       "      <td>Kensington and Chelsea</td>\n",
       "      <td>51.48780</td>\n",
       "      <td>-0.16813</td>\n",
       "      <td>Entire rental unit</td>\n",
       "      <td>...</td>\n",
       "      <td>0</td>\n",
       "      <td>1</td>\n",
       "      <td>1</td>\n",
       "      <td>0</td>\n",
       "      <td>0</td>\n",
       "      <td>1</td>\n",
       "      <td>0</td>\n",
       "      <td>0</td>\n",
       "      <td>0</td>\n",
       "      <td>0</td>\n",
       "    </tr>\n",
       "    <tr>\n",
       "      <th>2</th>\n",
       "      <td>London, England, United Kingdom</td>\n",
       "      <td>0</td>\n",
       "      <td>3.0</td>\n",
       "      <td>3.0</td>\n",
       "      <td>1</td>\n",
       "      <td>1</td>\n",
       "      <td>Hammersmith and Fulham</td>\n",
       "      <td>51.47935</td>\n",
       "      <td>-0.19743</td>\n",
       "      <td>Private room in townhouse</td>\n",
       "      <td>...</td>\n",
       "      <td>1</td>\n",
       "      <td>1</td>\n",
       "      <td>1</td>\n",
       "      <td>0</td>\n",
       "      <td>0</td>\n",
       "      <td>0</td>\n",
       "      <td>1</td>\n",
       "      <td>0</td>\n",
       "      <td>0</td>\n",
       "      <td>0</td>\n",
       "    </tr>\n",
       "    <tr>\n",
       "      <th>3</th>\n",
       "      <td>Isleworth, England, United Kingdom</td>\n",
       "      <td>0</td>\n",
       "      <td>2.0</td>\n",
       "      <td>2.0</td>\n",
       "      <td>1</td>\n",
       "      <td>1</td>\n",
       "      <td>Hounslow</td>\n",
       "      <td>51.46416</td>\n",
       "      <td>-0.32554</td>\n",
       "      <td>Private room in residential home</td>\n",
       "      <td>...</td>\n",
       "      <td>0</td>\n",
       "      <td>1</td>\n",
       "      <td>1</td>\n",
       "      <td>0</td>\n",
       "      <td>0</td>\n",
       "      <td>1</td>\n",
       "      <td>0</td>\n",
       "      <td>0</td>\n",
       "      <td>0</td>\n",
       "      <td>0</td>\n",
       "    </tr>\n",
       "    <tr>\n",
       "      <th>4</th>\n",
       "      <td>Richmond, England, United Kingdom</td>\n",
       "      <td>0</td>\n",
       "      <td>1.0</td>\n",
       "      <td>1.0</td>\n",
       "      <td>1</td>\n",
       "      <td>1</td>\n",
       "      <td>Richmond upon Thames</td>\n",
       "      <td>51.48085</td>\n",
       "      <td>-0.28086</td>\n",
       "      <td>Entire townhouse</td>\n",
       "      <td>...</td>\n",
       "      <td>0</td>\n",
       "      <td>1</td>\n",
       "      <td>1</td>\n",
       "      <td>0</td>\n",
       "      <td>0</td>\n",
       "      <td>1</td>\n",
       "      <td>1</td>\n",
       "      <td>0</td>\n",
       "      <td>0</td>\n",
       "      <td>0</td>\n",
       "    </tr>\n",
       "  </tbody>\n",
       "</table>\n",
       "<p>5 rows × 2615 columns</p>\n",
       "</div>"
      ],
      "text/plain": [
       "                         host_location  host_is_superhost  \\\n",
       "0      London, England, United Kingdom                  0   \n",
       "1  Kensington, England, United Kingdom                  0   \n",
       "2      London, England, United Kingdom                  0   \n",
       "3   Isleworth, England, United Kingdom                  0   \n",
       "4    Richmond, England, United Kingdom                  0   \n",
       "\n",
       "   host_listings_count  host_total_listings_count  host_has_profile_pic  \\\n",
       "0                  3.0                        3.0                     1   \n",
       "1                  1.0                        1.0                     1   \n",
       "2                  3.0                        3.0                     1   \n",
       "3                  2.0                        2.0                     1   \n",
       "4                  1.0                        1.0                     1   \n",
       "\n",
       "   host_identity_verified  neighbourhood_cleansed  latitude  longitude  \\\n",
       "0                       1               Islington  51.56861   -0.11270   \n",
       "1                       1  Kensington and Chelsea  51.48780   -0.16813   \n",
       "2                       1  Hammersmith and Fulham  51.47935   -0.19743   \n",
       "3                       1                Hounslow  51.46416   -0.32554   \n",
       "4                       1    Richmond upon Thames  51.48085   -0.28086   \n",
       "\n",
       "                      property_type  ... identity_manual  phone government_id  \\\n",
       "0       Private room in rental unit  ...               0      1             1   \n",
       "1                Entire rental unit  ...               0      1             1   \n",
       "2         Private room in townhouse  ...               1      1             1   \n",
       "3  Private room in residential home  ...               0      1             1   \n",
       "4                  Entire townhouse  ...               0      1             1   \n",
       "\n",
       "   kba  photographer  reviews  work_email  sesame_offline  manual_offline  \\\n",
       "0    0             0        1           0               0               0   \n",
       "1    0             0        1           0               0               0   \n",
       "2    0             0        0           1               0               0   \n",
       "3    0             0        1           0               0               0   \n",
       "4    0             0        1           1               0               0   \n",
       "\n",
       "   weibo  \n",
       "0      0  \n",
       "1      0  \n",
       "2      0  \n",
       "3      0  \n",
       "4      0  \n",
       "\n",
       "[5 rows x 2615 columns]"
      ]
     },
     "execution_count": 3,
     "metadata": {},
     "output_type": "execute_result"
    }
   ],
   "source": [
    "df.head()"
   ]
  },
  {
   "cell_type": "code",
   "execution_count": 4,
   "id": "9729e3fc",
   "metadata": {},
   "outputs": [],
   "source": [
    "# Dependent variable\n",
    "var_dep = ['price']\n",
    "\n",
    "# Categorical variables\n",
    "vars_category = [var for var in df.columns if df[var].dtype != 'float' and df[var].dtype != 'int']\n",
    "\n",
    "# Numerical variables\n",
    "vars_numeric = [var for var in df.columns if var not in var_dep + vars_category]\n",
    "\n",
    "# Indepedent variables\n",
    "vars_ind = vars_category + vars_numeric\n",
    "\n"
   ]
  },
  {
   "cell_type": "code",
   "execution_count": 5,
   "id": "68fe4345",
   "metadata": {},
   "outputs": [
    {
     "data": {
      "text/html": [
       "<div>\n",
       "<style scoped>\n",
       "    .dataframe tbody tr th:only-of-type {\n",
       "        vertical-align: middle;\n",
       "    }\n",
       "\n",
       "    .dataframe tbody tr th {\n",
       "        vertical-align: top;\n",
       "    }\n",
       "\n",
       "    .dataframe thead th {\n",
       "        text-align: right;\n",
       "    }\n",
       "</style>\n",
       "<table border=\"1\" class=\"dataframe\">\n",
       "  <thead>\n",
       "    <tr style=\"text-align: right;\">\n",
       "      <th></th>\n",
       "      <th>host_location</th>\n",
       "      <th>neighbourhood_cleansed</th>\n",
       "      <th>property_type</th>\n",
       "      <th>room_type</th>\n",
       "      <th>bathrooms_text</th>\n",
       "      <th>has_availability</th>\n",
       "    </tr>\n",
       "  </thead>\n",
       "  <tbody>\n",
       "    <tr>\n",
       "      <th>0</th>\n",
       "      <td>1143</td>\n",
       "      <td>18</td>\n",
       "      <td>50</td>\n",
       "      <td>2</td>\n",
       "      <td>4</td>\n",
       "      <td>1</td>\n",
       "    </tr>\n",
       "    <tr>\n",
       "      <th>1</th>\n",
       "      <td>937</td>\n",
       "      <td>19</td>\n",
       "      <td>17</td>\n",
       "      <td>0</td>\n",
       "      <td>2</td>\n",
       "      <td>1</td>\n",
       "    </tr>\n",
       "    <tr>\n",
       "      <th>2</th>\n",
       "      <td>1143</td>\n",
       "      <td>12</td>\n",
       "      <td>55</td>\n",
       "      <td>2</td>\n",
       "      <td>3</td>\n",
       "      <td>1</td>\n",
       "    </tr>\n",
       "    <tr>\n",
       "      <th>3</th>\n",
       "      <td>894</td>\n",
       "      <td>17</td>\n",
       "      <td>51</td>\n",
       "      <td>2</td>\n",
       "      <td>3</td>\n",
       "      <td>1</td>\n",
       "    </tr>\n",
       "    <tr>\n",
       "      <th>4</th>\n",
       "      <td>1569</td>\n",
       "      <td>26</td>\n",
       "      <td>20</td>\n",
       "      <td>0</td>\n",
       "      <td>5</td>\n",
       "      <td>1</td>\n",
       "    </tr>\n",
       "  </tbody>\n",
       "</table>\n",
       "</div>"
      ],
      "text/plain": [
       "   host_location  neighbourhood_cleansed  property_type  room_type  \\\n",
       "0           1143                      18             50          2   \n",
       "1            937                      19             17          0   \n",
       "2           1143                      12             55          2   \n",
       "3            894                      17             51          2   \n",
       "4           1569                      26             20          0   \n",
       "\n",
       "   bathrooms_text  has_availability  \n",
       "0               4                 1  \n",
       "1               2                 1  \n",
       "2               3                 1  \n",
       "3               3                 1  \n",
       "4               5                 1  "
      ]
     },
     "execution_count": 5,
     "metadata": {},
     "output_type": "execute_result"
    }
   ],
   "source": [
    "# label categorical variable\n",
    "for col in vars_category:\n",
    "    le = preprocessing.LabelEncoder()\n",
    "    le.fit(df[col].values)\n",
    "    df[col]= le.transform(df[col].values)\n",
    "    \n",
    "for col in vars_category:\n",
    "    df[col] = df[col].astype(int)\n",
    "\n",
    "df[vars_category].head()"
   ]
  },
  {
   "cell_type": "code",
   "execution_count": 6,
   "id": "402957dd",
   "metadata": {},
   "outputs": [
    {
     "name": "stdout",
     "output_type": "stream",
     "text": [
      "<class 'pandas.core.frame.DataFrame'>\n",
      "RangeIndex: 47379 entries, 0 to 47378\n",
      "Columns: 2615 entries, host_location to weibo\n",
      "dtypes: float64(12), int64(2603)\n",
      "memory usage: 945.3 MB\n"
     ]
    }
   ],
   "source": [
    "df.info()"
   ]
  },
  {
   "cell_type": "code",
   "execution_count": 7,
   "id": "b3e82406",
   "metadata": {},
   "outputs": [],
   "source": [
    "# split train and test set\n",
    "X = df[vars_ind]\n",
    "y = df[var_dep]\n",
    "X_train, X_test, y_train, y_test = train_test_split(X, y, test_size=0.2, random_state=4)"
   ]
  },
  {
   "cell_type": "code",
   "execution_count": 8,
   "id": "88edc4eb",
   "metadata": {},
   "outputs": [
    {
     "data": {
      "text/plain": [
       "(37903, 2614)"
      ]
     },
     "execution_count": 8,
     "metadata": {},
     "output_type": "execute_result"
    }
   ],
   "source": [
    "X_train.shape"
   ]
  },
  {
   "cell_type": "code",
   "execution_count": 9,
   "id": "8c3465af",
   "metadata": {},
   "outputs": [
    {
     "data": {
      "text/plain": [
       "(37903, 1)"
      ]
     },
     "execution_count": 9,
     "metadata": {},
     "output_type": "execute_result"
    }
   ],
   "source": [
    "y_train.shape"
   ]
  },
  {
   "cell_type": "markdown",
   "id": "20dcbba2",
   "metadata": {},
   "source": [
    "## Lasso model"
   ]
  },
  {
   "cell_type": "code",
   "execution_count": 10,
   "id": "08a0755a",
   "metadata": {},
   "outputs": [],
   "source": [
    "# standarlise data\n",
    "from sklearn.preprocessing import StandardScaler\n",
    "\n",
    "scaler = StandardScaler().fit(X_train[vars_numeric]) \n",
    "\n",
    "X_train[vars_numeric] = scaler.transform(X_train[vars_numeric])\n",
    "\n",
    "X_test[vars_numeric] = scaler.transform(X_test[vars_numeric])"
   ]
  },
  {
   "cell_type": "code",
   "execution_count": 11,
   "id": "23e7b076",
   "metadata": {},
   "outputs": [],
   "source": [
    "# create function to calculate the accuracy\n",
    "def fn_MAE(actuals, predictions):\n",
    "    \n",
    "    return np.mean(np.abs(predictions - actuals))\n",
    "\n",
    "def fn_RMSE(actuals, predictions):\n",
    "    return np.sqrt(np.mean((predictions - actuals)**2))\n"
   ]
  },
  {
   "cell_type": "code",
   "execution_count": 12,
   "id": "e9496cdd",
   "metadata": {},
   "outputs": [
    {
     "name": "stdout",
     "output_type": "stream",
     "text": [
      "alpha: 0.130000\n",
      "1144.2608468532562\n"
     ]
    }
   ],
   "source": [
    "import time\n",
    "# recording time\n",
    "start = time.time()\n",
    "\n",
    "# define model evaluation method\n",
    "cv = RepeatedKFold(n_splits=10, n_repeats=3, random_state=1)\n",
    "# define model\n",
    "model = LassoCV(alphas=arange(0, 1, 0.01), cv=cv, n_jobs=-1)\n",
    "# fit model\n",
    "model.fit(X_train, y_train)\n",
    "# summarize chosen configuration\n",
    "print('alpha: %f' % model.alpha_)\n",
    "end_time = time.time() - start                        # end time of running\n",
    "print(end_time)"
   ]
  },
  {
   "cell_type": "code",
   "execution_count": 13,
   "id": "492602cf",
   "metadata": {},
   "outputs": [
    {
     "name": "stdout",
     "output_type": "stream",
     "text": [
      "MSE test set 1253.49\n",
      "RMSE test set 35.4\n"
     ]
    }
   ],
   "source": [
    "# fit test set to model\n",
    "from sklearn.metrics import mean_squared_error\n",
    "y_pred = model.predict(X_test)\n",
    "mse_test =mean_squared_error(y_test, y_pred)\n",
    "rmse_test = np.sqrt(mean_squared_error(y_test,y_pred))\n",
    "print('MSE test set', round(mse_test, 2))\n",
    "print('RMSE test set', round(rmse_test, 2))"
   ]
  },
  {
   "cell_type": "code",
   "execution_count": 14,
   "id": "22004f5c",
   "metadata": {},
   "outputs": [
    {
     "name": "stdout",
     "output_type": "stream",
     "text": [
      "MSE training set 1231.29\n",
      "RMSE training set 35.09\n"
     ]
    }
   ],
   "source": [
    "# calculate error for the train set\n",
    "y_pred_train = model.predict(X_train)\n",
    "mse_train = mean_squared_error(y_train, y_pred_train)\n",
    "rmse_train = np.sqrt(mean_squared_error(y_train, y_pred_train))\n",
    "print('MSE training set', round(mse_train, 2))\n",
    "print('RMSE training set', round(rmse_train, 2))"
   ]
  },
  {
   "cell_type": "code",
   "execution_count": 15,
   "id": "341016e1",
   "metadata": {},
   "outputs": [
    {
     "data": {
      "image/png": "[encoded data removed]",
      "text/plain": [
       "<Figure size 432x288 with 1 Axes>"
      ]
     },
     "metadata": {
      "needs_background": "light"
     },
     "output_type": "display_data"
    }
   ],
   "source": [
    "# plot mean square error for each fold\n",
    "plt.semilogx(model.alphas_, model.mse_path_, \":\")\n",
    "plt.plot(\n",
    "    model.alphas_ ,\n",
    "    model.mse_path_.mean(axis=-1),\n",
    "    \"k\",\n",
    "    label=\"Average across the folds\",\n",
    "    linewidth=2,\n",
    ")\n",
    "plt.axvline(\n",
    "    model.alpha_, linestyle=\"--\", color=\"k\", label=\"alpha: CV estimate\"\n",
    ")\n",
    "\n",
    "plt.legend()\n",
    "plt.xlabel(\"alphas\")\n",
    "plt.ylabel(\"Mean square error\")\n",
    "plt.title(\"Mean square error on each fold\")\n",
    "plt.axis(\"tight\")\n",
    "\n",
    "ymin, ymax = 1100, 1500\n",
    "plt.ylim(ymin, ymax);\n"
   ]
  },
  {
   "cell_type": "code",
   "execution_count": 16,
   "id": "01d4163e",
   "metadata": {},
   "outputs": [
    {
     "data": {
      "text/plain": [
       "array([ 0.0006344 ,  0.26051053,  0.12274607, ...,  0.00494283,\n",
       "        0.55547418, -0.09439283])"
      ]
     },
     "execution_count": 16,
     "metadata": {},
     "output_type": "execute_result"
    }
   ],
   "source": [
    "# coefficient of model\n",
    "model.coef_"
   ]
  }
 ],
 "metadata": {
  "kernelspec": {
   "display_name": "Python 3",
   "language": "python",
   "name": "python3"
  },
  "language_info": {
   "codemirror_mode": {
    "name": "ipython",
    "version": 3
   },
   "file_extension": ".py",
   "mimetype": "text/x-python",
   "name": "python",
   "nbconvert_exporter": "python",
   "pygments_lexer": "ipython3",
   "version": "3.8.8"
  }
 },
 "nbformat": 4,
 "nbformat_minor": 5
}
